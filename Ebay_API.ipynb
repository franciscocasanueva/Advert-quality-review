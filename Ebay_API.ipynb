{
 "cells": [
  {
   "cell_type": "code",
   "execution_count": 1,
   "metadata": {
    "collapsed": true
   },
   "outputs": [],
   "source": [
    "Ebay_API = 'a89f2b39-1a4c-424f-9fa4-b58183296d4d'"
   ]
  },
  {
   "cell_type": "code",
   "execution_count": 2,
   "metadata": {
    "collapsed": true
   },
   "outputs": [],
   "source": [
    "EBAY = \"https://svcs.ebay.com/services/search/FindingService/v1?SECURITY-APPNAME=Francisc-EbayPaco-PRD-0090738eb-bc972731&OPERATION-NAME=findItemsByKeywords&SERVICE-VERSION=1.0.0&RESPONSE-DATA-FORMAT=JSON&callback=_cb_findItemsByKeywords&REST-PAYLOAD&keywords=iPhone&paginationInput.entriesPerPage=6&GLOBAL-ID=EBAY-US&siteid=0\""
   ]
  },
  {
   "cell_type": "code",
   "execution_count": 3,
   "metadata": {
    "collapsed": true
   },
   "outputs": [],
   "source": [
    "import json\n",
    "import urllib\n",
    "import pandas as pd\n",
    "import numpy as np\n",
    "import requests\n",
    "import json\n",
    "import re\n",
    "import matplotlib.pyplot as plt\n",
    "%matplotlib inline"
   ]
  },
  {
   "cell_type": "code",
   "execution_count": 4,
   "metadata": {},
   "outputs": [],
   "source": [
    "result = requests.get(EBAY)\n",
    "#sheetsu_results = pd.read_json(result.text)"
   ]
  },
  {
   "cell_type": "code",
   "execution_count": 40,
   "metadata": {},
   "outputs": [],
   "source": [
    "from ebaysdk.finding import Connection as Finding\n",
    "from ebaysdk.exception import ConnectionError\n",
    "try:\n",
    "    api = Finding(appid=\"Francisc-pacopenc-PRD-f69e0185b-1c77bb8b\", config_file=None)\n",
    "    response = api.execute('findItemsAdvanced', {'keywords': 'Python'})\n",
    "except ConnectionError as e:\n",
    "    print(e)\n",
    "    print(e.response.dict())\n"
   ]
  },
  {
   "cell_type": "code",
   "execution_count": 41,
   "metadata": {},
   "outputs": [],
   "source": [
    "item_list = []\n",
    "if int(response.reply.paginationOutput.totalEntries) > 0:\n",
    "    for i in response.reply.searchResult.item:\n",
    "        item = [i.itemId, i.country, i.galleryURL, i.get, i.globalId, i.itemId, i.listingInfo, i.location, i.sellingStatus, i.title, i.viewItemURL]\n",
    "        item_list.append(item)\n",
    "item_frame = pd.DataFrame(item_list, columns=['itemId', 'country', 'galleryURL', 'get', 'globalId', 'itemId', 'listingInfo', 'location', 'sellingStatus', 'title', 'viewItemURL'])\n",
    "        #i.postalCode \n",
    "        #i.subtitle "
   ]
  },
  {
   "cell_type": "code",
   "execution_count": 42,
   "metadata": {},
   "outputs": [
    {
     "data": {
      "text/html": [
       "<div>\n",
       "<table border=\"1\" class=\"dataframe\">\n",
       "  <thead>\n",
       "    <tr style=\"text-align: right;\">\n",
       "      <th></th>\n",
       "      <th>itemId</th>\n",
       "      <th>country</th>\n",
       "      <th>galleryURL</th>\n",
       "      <th>get</th>\n",
       "      <th>globalId</th>\n",
       "      <th>itemId</th>\n",
       "      <th>listingInfo</th>\n",
       "      <th>location</th>\n",
       "      <th>sellingStatus</th>\n",
       "      <th>title</th>\n",
       "      <th>viewItemURL</th>\n",
       "    </tr>\n",
       "  </thead>\n",
       "  <tbody>\n",
       "    <tr>\n",
       "      <th>0</th>\n",
       "      <td>332199510031</td>\n",
       "      <td>US</td>\n",
       "      <td>http://thumbs4.ebaystatic.com/m/mUHDHp8cXVgRyb...</td>\n",
       "      <td>&lt;bound method ResponseDataObject.get of {'item...</td>\n",
       "      <td>EBAY-US</td>\n",
       "      <td>332199510031</td>\n",
       "      <td>{'listingType': 'StoreInventory', 'gift': 'fal...</td>\n",
       "      <td>Duluth,GA,USA</td>\n",
       "      <td>{'currentPrice': {'_currencyId': 'USD', 'value...</td>\n",
       "      <td>NWT❤️ $348 MICHAEL KORS  Python Emb Leather Ja...</td>\n",
       "      <td>http://www.ebay.com/itm/NWT-348-MICHAEL-KORS-P...</td>\n",
       "    </tr>\n",
       "    <tr>\n",
       "      <th>1</th>\n",
       "      <td>162500982338</td>\n",
       "      <td>US</td>\n",
       "      <td>http://thumbs3.ebaystatic.com/m/mbKxM4ujEikwR-...</td>\n",
       "      <td>&lt;bound method ResponseDataObject.get of {'item...</td>\n",
       "      <td>EBAY-US</td>\n",
       "      <td>162500982338</td>\n",
       "      <td>{'listingType': 'FixedPrice', 'gift': 'false',...</td>\n",
       "      <td>Hillsborough,NJ,USA</td>\n",
       "      <td>{'currentPrice': {'_currencyId': 'USD', 'value...</td>\n",
       "      <td>Michael Kors Gia Small Python and Leather Clut...</td>\n",
       "      <td>http://www.ebay.com/itm/Michael-Kors-Gia-Small...</td>\n",
       "    </tr>\n",
       "  </tbody>\n",
       "</table>\n",
       "</div>"
      ],
      "text/plain": [
       "         itemId country                                         galleryURL  \\\n",
       "0  332199510031      US  http://thumbs4.ebaystatic.com/m/mUHDHp8cXVgRyb...   \n",
       "1  162500982338      US  http://thumbs3.ebaystatic.com/m/mbKxM4ujEikwR-...   \n",
       "\n",
       "                                                 get globalId        itemId  \\\n",
       "0  <bound method ResponseDataObject.get of {'item...  EBAY-US  332199510031   \n",
       "1  <bound method ResponseDataObject.get of {'item...  EBAY-US  162500982338   \n",
       "\n",
       "                                         listingInfo             location  \\\n",
       "0  {'listingType': 'StoreInventory', 'gift': 'fal...        Duluth,GA,USA   \n",
       "1  {'listingType': 'FixedPrice', 'gift': 'false',...  Hillsborough,NJ,USA   \n",
       "\n",
       "                                       sellingStatus  \\\n",
       "0  {'currentPrice': {'_currencyId': 'USD', 'value...   \n",
       "1  {'currentPrice': {'_currencyId': 'USD', 'value...   \n",
       "\n",
       "                                               title  \\\n",
       "0  NWT❤️ $348 MICHAEL KORS  Python Emb Leather Ja...   \n",
       "1  Michael Kors Gia Small Python and Leather Clut...   \n",
       "\n",
       "                                         viewItemURL  \n",
       "0  http://www.ebay.com/itm/NWT-348-MICHAEL-KORS-P...  \n",
       "1  http://www.ebay.com/itm/Michael-Kors-Gia-Small...  "
      ]
     },
     "execution_count": 42,
     "metadata": {},
     "output_type": "execute_result"
    }
   ],
   "source": [
    "item_frame.head(2)"
   ]
  }
 ],
 "metadata": {
  "kernelspec": {
   "display_name": "Python 2",
   "language": "python",
   "name": "python2"
  },
  "language_info": {
   "codemirror_mode": {
    "name": "ipython",
    "version": 2
   },
   "file_extension": ".py",
   "mimetype": "text/x-python",
   "name": "python",
   "nbconvert_exporter": "python",
   "pygments_lexer": "ipython2",
   "version": "2.7.12"
  }
 },
 "nbformat": 4,
 "nbformat_minor": 2
}
