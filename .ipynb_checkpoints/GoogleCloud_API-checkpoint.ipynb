{
 "cells": [
  {
   "cell_type": "markdown",
   "metadata": {},
   "source": [
    "# GoogleCloud_API"
   ]
  },
  {
   "cell_type": "markdown",
   "metadata": {},
   "source": [
    "Using Google Cloud Vision API and based on the images provided by the Yelp API we are able structure new data that could enrich our analysis, in particular:\n",
    "- Labels: Google Cloud recognition uses image recognition algorithms to extract labels based on elements of the picture.\n",
    "- Colors: Fundamental colors that appear on the picture.\n",
    "\n",
    "Here fundamentally:\n",
    "1. The connection to the google API is made with the google.cloud library.\n",
    "2. Using the API methods we extract labels and color properties.\n",
    "3. Cleaning and structuring of the data response obtained"
   ]
  },
  {
   "cell_type": "markdown",
   "metadata": {},
   "source": [
    "## Google API Conection"
   ]
  },
  {
   "cell_type": "markdown",
   "metadata": {},
   "source": [
    "For the use of the google API library It is needed to download Google Cloud Software, create an account, start a google project, hire the google vision services, initialize the software on the shell and conect to your own account and credentials. "
   ]
  },
  {
   "cell_type": "code",
   "execution_count": 174,
   "metadata": {
    "collapsed": true
   },
   "outputs": [],
   "source": [
    "import pandas as pd\n",
    "import numpy as np\n",
    "import io\n",
    "import os\n",
    "# Imports the Google Cloud client library\n",
    "from google.cloud import vision"
   ]
  },
  {
   "cell_type": "code",
   "execution_count": 2,
   "metadata": {
    "collapsed": true
   },
   "outputs": [],
   "source": [
    "photos = pd.read_csv('Ad_image.csv')"
   ]
  },
  {
   "cell_type": "code",
   "execution_count": 3,
   "metadata": {},
   "outputs": [
    {
     "data": {
      "text/html": [
       "<div>\n",
       "<table border=\"1\" class=\"dataframe\">\n",
       "  <thead>\n",
       "    <tr style=\"text-align: right;\">\n",
       "      <th></th>\n",
       "      <th>image_url</th>\n",
       "    </tr>\n",
       "  </thead>\n",
       "  <tbody>\n",
       "    <tr>\n",
       "      <th>0</th>\n",
       "      <td>https://s3-media1.fl.yelpcdn.com/bphoto/SKAdDh...</td>\n",
       "    </tr>\n",
       "    <tr>\n",
       "      <th>1</th>\n",
       "      <td>https://s3-media2.fl.yelpcdn.com/bphoto/DLmidv...</td>\n",
       "    </tr>\n",
       "    <tr>\n",
       "      <th>2</th>\n",
       "      <td>https://s3-media4.fl.yelpcdn.com/bphoto/weedog...</td>\n",
       "    </tr>\n",
       "    <tr>\n",
       "      <th>3</th>\n",
       "      <td>https://s3-media1.fl.yelpcdn.com/bphoto/yzyTg5...</td>\n",
       "    </tr>\n",
       "    <tr>\n",
       "      <th>4</th>\n",
       "      <td>https://s3-media2.fl.yelpcdn.com/bphoto/tbGiSu...</td>\n",
       "    </tr>\n",
       "  </tbody>\n",
       "</table>\n",
       "</div>"
      ],
      "text/plain": [
       "                                           image_url\n",
       "0  https://s3-media1.fl.yelpcdn.com/bphoto/SKAdDh...\n",
       "1  https://s3-media2.fl.yelpcdn.com/bphoto/DLmidv...\n",
       "2  https://s3-media4.fl.yelpcdn.com/bphoto/weedog...\n",
       "3  https://s3-media1.fl.yelpcdn.com/bphoto/yzyTg5...\n",
       "4  https://s3-media2.fl.yelpcdn.com/bphoto/tbGiSu..."
      ]
     },
     "execution_count": 3,
     "metadata": {},
     "output_type": "execute_result"
    }
   ],
   "source": [
    "photos.head()"
   ]
  },
  {
   "cell_type": "code",
   "execution_count": 4,
   "metadata": {},
   "outputs": [
    {
     "data": {
      "text/plain": [
       "image_url    https://s3-media1.fl.yelpcdn.com/bphoto/SKAdDh...\n",
       "Name: 0, dtype: object"
      ]
     },
     "execution_count": 4,
     "metadata": {},
     "output_type": "execute_result"
    }
   ],
   "source": [
    "photos.iloc[0]"
   ]
  },
  {
   "cell_type": "code",
   "execution_count": 175,
   "metadata": {
    "collapsed": true
   },
   "outputs": [],
   "source": [
    "# Instantiates a client\n",
    "vision_client = vision.Client()"
   ]
  },
  {
   "cell_type": "markdown",
   "metadata": {},
   "source": [
    "## Label Extraction"
   ]
  },
  {
   "cell_type": "markdown",
   "metadata": {},
   "source": [
    "Funtion for the label extraction of each picture."
   ]
  },
  {
   "cell_type": "code",
   "execution_count": 6,
   "metadata": {},
   "outputs": [
    {
     "data": {
      "text/plain": [
       "'https://s3-media1.fl.yelpcdn.com/bphoto/yzyTg5QidNVxlEqH1BXOXg/o.jpg'"
      ]
     },
     "execution_count": 6,
     "metadata": {},
     "output_type": "execute_result"
    }
   ],
   "source": [
    "photos.iloc[3].values[0]"
   ]
  },
  {
   "cell_type": "code",
   "execution_count": 7,
   "metadata": {
    "collapsed": true
   },
   "outputs": [],
   "source": [
    "def detect_labels(pic):\n",
    "    try:\n",
    "        pic_open = pic\n",
    "        #Transform the picture to a google image object\n",
    "        googleimg = vision_client.image(source_uri=pic_open)\n",
    "        #Get the labels from the object\n",
    "        labels = googleimg.detect_labels()\n",
    "        #put the labels into a list\n",
    "        labellist = []\n",
    "        for label in labels:\n",
    "            labellist.append(label.description)\n",
    "        return labellist\n",
    "    except:\n",
    "        return \"Error in detect_labels\""
   ]
  },
  {
   "cell_type": "markdown",
   "metadata": {},
   "source": [
    "Get the labels of all the pictures"
   ]
  },
  {
   "cell_type": "code",
   "execution_count": 8,
   "metadata": {
    "collapsed": true
   },
   "outputs": [],
   "source": [
    "#With lambda function:\n",
    "#photos['Labels'] = photos['image_url'][0:].apply(lambda x: detect_labels(x))"
   ]
  },
  {
   "cell_type": "code",
   "execution_count": 9,
   "metadata": {
    "collapsed": true
   },
   "outputs": [],
   "source": [
    "photos ['Labels'] = range(len(photos))"
   ]
  },
  {
   "cell_type": "code",
   "execution_count": 10,
   "metadata": {},
   "outputs": [
    {
     "name": "stderr",
     "output_type": "stream",
     "text": [
      "/usr/local/lib/python2.7/dist-packages/ipykernel_launcher.py:4: SettingWithCopyWarning: \n",
      "A value is trying to be set on a copy of a slice from a DataFrame\n",
      "\n",
      "See the caveats in the documentation: http://pandas.pydata.org/pandas-docs/stable/indexing.html#indexing-view-versus-copy\n",
      "  after removing the cwd from sys.path.\n",
      "/usr/local/lib/python2.7/dist-packages/pandas/core/indexing.py:141: SettingWithCopyWarning: \n",
      "A value is trying to be set on a copy of a slice from a DataFrame\n",
      "\n",
      "See the caveats in the documentation: http://pandas.pydata.org/pandas-docs/stable/indexing.html#indexing-view-versus-copy\n",
      "  self._setitem_with_indexer(indexer, value)\n"
     ]
    }
   ],
   "source": [
    "#with a loop\n",
    "for i in range(2999):\n",
    "    try:\n",
    "        photos ['Labels'] [i] = detect_labels(photos['image_url'][i])\n",
    "    except:\n",
    "        print \"Error\""
   ]
  },
  {
   "cell_type": "code",
   "execution_count": 11,
   "metadata": {},
   "outputs": [
    {
     "data": {
      "text/html": [
       "<div>\n",
       "<table border=\"1\" class=\"dataframe\">\n",
       "  <thead>\n",
       "    <tr style=\"text-align: right;\">\n",
       "      <th></th>\n",
       "      <th>image_url</th>\n",
       "      <th>Labels</th>\n",
       "    </tr>\n",
       "  </thead>\n",
       "  <tbody>\n",
       "    <tr>\n",
       "      <th>0</th>\n",
       "      <td>https://s3-media1.fl.yelpcdn.com/bphoto/SKAdDh...</td>\n",
       "      <td>[table, drink, lighting, shape, material, drum]</td>\n",
       "    </tr>\n",
       "    <tr>\n",
       "      <th>1</th>\n",
       "      <td>https://s3-media2.fl.yelpcdn.com/bphoto/DLmidv...</td>\n",
       "      <td>[dish, food, meal, dinner, restaurant, cuisine...</td>\n",
       "    </tr>\n",
       "    <tr>\n",
       "      <th>2</th>\n",
       "      <td>https://s3-media4.fl.yelpcdn.com/bphoto/weedog...</td>\n",
       "      <td>[dish, food, meal, produce, cuisine, vegetable...</td>\n",
       "    </tr>\n",
       "    <tr>\n",
       "      <th>3</th>\n",
       "      <td>https://s3-media1.fl.yelpcdn.com/bphoto/yzyTg5...</td>\n",
       "      <td>[modern art, art gallery, exhibition, picture ...</td>\n",
       "    </tr>\n",
       "    <tr>\n",
       "      <th>4</th>\n",
       "      <td>https://s3-media2.fl.yelpcdn.com/bphoto/tbGiSu...</td>\n",
       "      <td>[transport, road, city, town, urban area, neig...</td>\n",
       "    </tr>\n",
       "  </tbody>\n",
       "</table>\n",
       "</div>"
      ],
      "text/plain": [
       "                                           image_url  \\\n",
       "0  https://s3-media1.fl.yelpcdn.com/bphoto/SKAdDh...   \n",
       "1  https://s3-media2.fl.yelpcdn.com/bphoto/DLmidv...   \n",
       "2  https://s3-media4.fl.yelpcdn.com/bphoto/weedog...   \n",
       "3  https://s3-media1.fl.yelpcdn.com/bphoto/yzyTg5...   \n",
       "4  https://s3-media2.fl.yelpcdn.com/bphoto/tbGiSu...   \n",
       "\n",
       "                                              Labels  \n",
       "0    [table, drink, lighting, shape, material, drum]  \n",
       "1  [dish, food, meal, dinner, restaurant, cuisine...  \n",
       "2  [dish, food, meal, produce, cuisine, vegetable...  \n",
       "3  [modern art, art gallery, exhibition, picture ...  \n",
       "4  [transport, road, city, town, urban area, neig...  "
      ]
     },
     "execution_count": 11,
     "metadata": {},
     "output_type": "execute_result"
    }
   ],
   "source": [
    "photos.head()"
   ]
  },
  {
   "cell_type": "markdown",
   "metadata": {},
   "source": [
    "## Color Extraction"
   ]
  },
  {
   "cell_type": "markdown",
   "metadata": {},
   "source": [
    "Function for the color extraction of each picture"
   ]
  },
  {
   "cell_type": "markdown",
   "metadata": {},
   "source": [
    "Query the color properties of google"
   ]
  },
  {
   "cell_type": "code",
   "execution_count": 12,
   "metadata": {
    "collapsed": true
   },
   "outputs": [],
   "source": [
    "def piture_properties(image):\n",
    "    properties = image.detect_properties()\n",
    "    frame = []\n",
    "    #the result of the query is a dictionary that we query and join to get a frame\n",
    "    for color in properties.colors:\n",
    "        #Adding together all colors in one list\n",
    "        c = [format(color.pixel_fraction), format(color.color.red), format(color.color.green), format(color.color.blue), format(color.color.alpha)]\n",
    "        frame.append(c)\n",
    "    #Making the colors list a dataframe, transforming it to float and sorting it by the mos common one.\n",
    "    color_frame = pd.DataFrame(frame, columns= ['pixel_fraction', 'red', 'green', 'blue', 'alpha'])\n",
    "    color_frame = color_frame.applymap(lambda x: float(x))\n",
    "    color_frame.sort_values('pixel_fraction', ascending=False, inplace=True)\n",
    "    color_frame.reset_index(drop=True, inplace=True)\n",
    "    return color_frame"
   ]
  },
  {
   "cell_type": "markdown",
   "metadata": {},
   "source": [
    "This function will return a frame with the most comon colors in the picture we are analysing.\n",
    "\n",
    "A frame like the one we are seeing underneath which bring the top ten colors by the fraction of pixels that the represent."
   ]
  },
  {
   "cell_type": "code",
   "execution_count": 97,
   "metadata": {
    "collapsed": true
   },
   "outputs": [],
   "source": [
    "color_frame = piture_properties(vision_client.image(source_uri=photos.iloc[0].values[0]))"
   ]
  },
  {
   "cell_type": "code",
   "execution_count": 98,
   "metadata": {},
   "outputs": [
    {
     "data": {
      "text/html": [
       "<div>\n",
       "<table border=\"1\" class=\"dataframe\">\n",
       "  <thead>\n",
       "    <tr style=\"text-align: right;\">\n",
       "      <th></th>\n",
       "      <th>pixel_fraction</th>\n",
       "      <th>red</th>\n",
       "      <th>green</th>\n",
       "      <th>blue</th>\n",
       "      <th>alpha</th>\n",
       "    </tr>\n",
       "  </thead>\n",
       "  <tbody>\n",
       "    <tr>\n",
       "      <th>0</th>\n",
       "      <td>0.291338</td>\n",
       "      <td>66.0</td>\n",
       "      <td>60.0</td>\n",
       "      <td>58.0</td>\n",
       "      <td>0.0</td>\n",
       "    </tr>\n",
       "    <tr>\n",
       "      <th>1</th>\n",
       "      <td>0.080447</td>\n",
       "      <td>109.0</td>\n",
       "      <td>85.0</td>\n",
       "      <td>67.0</td>\n",
       "      <td>0.0</td>\n",
       "    </tr>\n",
       "    <tr>\n",
       "      <th>2</th>\n",
       "      <td>0.041980</td>\n",
       "      <td>182.0</td>\n",
       "      <td>141.0</td>\n",
       "      <td>100.0</td>\n",
       "      <td>0.0</td>\n",
       "    </tr>\n",
       "    <tr>\n",
       "      <th>3</th>\n",
       "      <td>0.035269</td>\n",
       "      <td>132.0</td>\n",
       "      <td>106.0</td>\n",
       "      <td>84.0</td>\n",
       "      <td>0.0</td>\n",
       "    </tr>\n",
       "    <tr>\n",
       "      <th>4</th>\n",
       "      <td>0.033062</td>\n",
       "      <td>179.0</td>\n",
       "      <td>144.0</td>\n",
       "      <td>102.0</td>\n",
       "      <td>0.0</td>\n",
       "    </tr>\n",
       "    <tr>\n",
       "      <th>5</th>\n",
       "      <td>0.023197</td>\n",
       "      <td>181.0</td>\n",
       "      <td>141.0</td>\n",
       "      <td>107.0</td>\n",
       "      <td>0.0</td>\n",
       "    </tr>\n",
       "    <tr>\n",
       "      <th>6</th>\n",
       "      <td>0.020269</td>\n",
       "      <td>250.0</td>\n",
       "      <td>223.0</td>\n",
       "      <td>197.0</td>\n",
       "      <td>0.0</td>\n",
       "    </tr>\n",
       "    <tr>\n",
       "      <th>7</th>\n",
       "      <td>0.019684</td>\n",
       "      <td>144.0</td>\n",
       "      <td>109.0</td>\n",
       "      <td>85.0</td>\n",
       "      <td>0.0</td>\n",
       "    </tr>\n",
       "    <tr>\n",
       "      <th>8</th>\n",
       "      <td>0.006306</td>\n",
       "      <td>164.0</td>\n",
       "      <td>121.0</td>\n",
       "      <td>80.0</td>\n",
       "      <td>0.0</td>\n",
       "    </tr>\n",
       "    <tr>\n",
       "      <th>9</th>\n",
       "      <td>0.000586</td>\n",
       "      <td>185.0</td>\n",
       "      <td>96.0</td>\n",
       "      <td>37.0</td>\n",
       "      <td>0.0</td>\n",
       "    </tr>\n",
       "  </tbody>\n",
       "</table>\n",
       "</div>"
      ],
      "text/plain": [
       "   pixel_fraction    red  green   blue  alpha\n",
       "0        0.291338   66.0   60.0   58.0    0.0\n",
       "1        0.080447  109.0   85.0   67.0    0.0\n",
       "2        0.041980  182.0  141.0  100.0    0.0\n",
       "3        0.035269  132.0  106.0   84.0    0.0\n",
       "4        0.033062  179.0  144.0  102.0    0.0\n",
       "5        0.023197  181.0  141.0  107.0    0.0\n",
       "6        0.020269  250.0  223.0  197.0    0.0\n",
       "7        0.019684  144.0  109.0   85.0    0.0\n",
       "8        0.006306  164.0  121.0   80.0    0.0\n",
       "9        0.000586  185.0   96.0   37.0    0.0"
      ]
     },
     "execution_count": 98,
     "metadata": {},
     "output_type": "execute_result"
    }
   ],
   "source": [
    "color_frame"
   ]
  },
  {
   "cell_type": "markdown",
   "metadata": {},
   "source": [
    "As a last step for the most color extraction and with this dataframe we have now obtained, we make a fuction that summerizes the most important color information. Bringing two summary statistics:\n",
    "\n",
    "1. The mean color adding up 40% of the pixels.\n",
    "2. The most common color."
   ]
  },
  {
   "cell_type": "code",
   "execution_count": 146,
   "metadata": {
    "collapsed": true
   },
   "outputs": [],
   "source": [
    "def colorsum(df):\n",
    "    i = 0\n",
    "    redsum = 0\n",
    "    greensum = 0\n",
    "    bluesum = 0\n",
    "    pix_sum = 0\n",
    "    while pix_sum < 0.4 and i < 7:\n",
    "        pix_sum += df.pixel_fraction[i]\n",
    "        redsum = redsum + df.red[i]*df.pixel_fraction[i]\n",
    "        greensum = greensum + df.green[i]*df.pixel_fraction[i]\n",
    "        bluesum = bluesum + df.blue[i]*df.pixel_fraction[i]\n",
    "        i += 1\n",
    "    return pd.DataFrame([[redsum, greensum, bluesum,df.pixel_fraction[0],df.red[0],df.green[0],df.blue[0]]],\n",
    "                        columns= ['Red', 'Green', 'Blue','TOP Pixel_prop','TOP Red','TOP Green','TOP Blue'])"
   ]
  },
  {
   "cell_type": "code",
   "execution_count": 183,
   "metadata": {
    "collapsed": true
   },
   "outputs": [],
   "source": [
    "color_carac = pd.DataFrame()"
   ]
  },
  {
   "cell_type": "code",
   "execution_count": 184,
   "metadata": {
    "collapsed": true
   },
   "outputs": [],
   "source": [
    "for i in range(len(photos)):\n",
    "    try:\n",
    "        nr = pd.DataFrame(colorsum(piture_properties(vision_client.image(source_uri=photos.iloc[i].values[0]))))\n",
    "        color_carac = pd.concat([color_carac, nr], axis=0)\n",
    "    except:\n",
    "        nr = pd.DataFrame([['no picture','no picture','no picture','no picture','no picture','no picture','no picture']],\n",
    "                          columns= ['Red', 'Green', 'Blue','TOP Pixel_prop','TOP Red','TOP Green','TOP Blue'])\n",
    "        color_carac = pd.concat([color_carac, nr], axis=0)"
   ]
  },
  {
   "cell_type": "code",
   "execution_count": 185,
   "metadata": {},
   "outputs": [
    {
     "data": {
      "text/html": [
       "<div>\n",
       "<table border=\"1\" class=\"dataframe\">\n",
       "  <thead>\n",
       "    <tr style=\"text-align: right;\">\n",
       "      <th></th>\n",
       "      <th>Red</th>\n",
       "      <th>Green</th>\n",
       "      <th>Blue</th>\n",
       "      <th>TOP Pixel_prop</th>\n",
       "      <th>TOP Red</th>\n",
       "      <th>TOP Green</th>\n",
       "      <th>TOP Blue</th>\n",
       "    </tr>\n",
       "  </thead>\n",
       "  <tbody>\n",
       "    <tr>\n",
       "      <th>0</th>\n",
       "      <td>35.6374</td>\n",
       "      <td>30.2375</td>\n",
       "      <td>26.4856</td>\n",
       "      <td>0.291338</td>\n",
       "      <td>66</td>\n",
       "      <td>60</td>\n",
       "      <td>58</td>\n",
       "    </tr>\n",
       "    <tr>\n",
       "      <th>0</th>\n",
       "      <td>58.7311</td>\n",
       "      <td>42.5261</td>\n",
       "      <td>24.0796</td>\n",
       "      <td>0.203647</td>\n",
       "      <td>146</td>\n",
       "      <td>114</td>\n",
       "      <td>68</td>\n",
       "    </tr>\n",
       "    <tr>\n",
       "      <th>0</th>\n",
       "      <td>102.41</td>\n",
       "      <td>97.7666</td>\n",
       "      <td>89.2599</td>\n",
       "      <td>0.305369</td>\n",
       "      <td>200</td>\n",
       "      <td>190</td>\n",
       "      <td>168</td>\n",
       "    </tr>\n",
       "    <tr>\n",
       "      <th>0</th>\n",
       "      <td>72.3724</td>\n",
       "      <td>64.6825</td>\n",
       "      <td>57.8979</td>\n",
       "      <td>0.276127</td>\n",
       "      <td>225</td>\n",
       "      <td>204</td>\n",
       "      <td>180</td>\n",
       "    </tr>\n",
       "    <tr>\n",
       "      <th>0</th>\n",
       "      <td>25.271</td>\n",
       "      <td>24.5523</td>\n",
       "      <td>25.3966</td>\n",
       "      <td>0.262404</td>\n",
       "      <td>83</td>\n",
       "      <td>81</td>\n",
       "      <td>82</td>\n",
       "    </tr>\n",
       "  </tbody>\n",
       "</table>\n",
       "</div>"
      ],
      "text/plain": [
       "       Red    Green     Blue TOP Pixel_prop TOP Red TOP Green TOP Blue\n",
       "0  35.6374  30.2375  26.4856       0.291338      66        60       58\n",
       "0  58.7311  42.5261  24.0796       0.203647     146       114       68\n",
       "0   102.41  97.7666  89.2599       0.305369     200       190      168\n",
       "0  72.3724  64.6825  57.8979       0.276127     225       204      180\n",
       "0   25.271  24.5523  25.3966       0.262404      83        81       82"
      ]
     },
     "execution_count": 185,
     "metadata": {},
     "output_type": "execute_result"
    }
   ],
   "source": [
    "color_carac.head()"
   ]
  },
  {
   "cell_type": "code",
   "execution_count": 193,
   "metadata": {},
   "outputs": [
    {
     "data": {
      "text/plain": [
       "(3000, 2)"
      ]
     },
     "execution_count": 193,
     "metadata": {},
     "output_type": "execute_result"
    }
   ],
   "source": [
    "photos.shape"
   ]
  },
  {
   "cell_type": "code",
   "execution_count": 194,
   "metadata": {},
   "outputs": [
    {
     "data": {
      "text/plain": [
       "(3000, 7)"
      ]
     },
     "execution_count": 194,
     "metadata": {},
     "output_type": "execute_result"
    }
   ],
   "source": [
    "color_carac.shape"
   ]
  },
  {
   "cell_type": "code",
   "execution_count": 195,
   "metadata": {
    "collapsed": true
   },
   "outputs": [],
   "source": [
    "color_carac.reset_index(drop=True, inplace= True)"
   ]
  },
  {
   "cell_type": "code",
   "execution_count": 196,
   "metadata": {
    "collapsed": true
   },
   "outputs": [],
   "source": [
    "image_properties = pd.concat([photos, color_carac], axis = 1)"
   ]
  },
  {
   "cell_type": "code",
   "execution_count": 197,
   "metadata": {},
   "outputs": [
    {
     "data": {
      "text/html": [
       "<div>\n",
       "<table border=\"1\" class=\"dataframe\">\n",
       "  <thead>\n",
       "    <tr style=\"text-align: right;\">\n",
       "      <th></th>\n",
       "      <th>image_url</th>\n",
       "      <th>Labels</th>\n",
       "      <th>Red</th>\n",
       "      <th>Green</th>\n",
       "      <th>Blue</th>\n",
       "      <th>TOP Pixel_prop</th>\n",
       "      <th>TOP Red</th>\n",
       "      <th>TOP Green</th>\n",
       "      <th>TOP Blue</th>\n",
       "    </tr>\n",
       "  </thead>\n",
       "  <tbody>\n",
       "    <tr>\n",
       "      <th>2995</th>\n",
       "      <td>https://s3-media4.fl.yelpcdn.com/bphoto/JIGZTo...</td>\n",
       "      <td>[dish, food, cuisine, meal, breakfast, produce...</td>\n",
       "      <td>66.6043</td>\n",
       "      <td>56.6967</td>\n",
       "      <td>48.8742</td>\n",
       "      <td>0.132371</td>\n",
       "      <td>216</td>\n",
       "      <td>190</td>\n",
       "      <td>165</td>\n",
       "    </tr>\n",
       "    <tr>\n",
       "      <th>2996</th>\n",
       "      <td>https://s3-media3.fl.yelpcdn.com/bphoto/n6TRCA...</td>\n",
       "      <td>[drink, alcoholic beverage, beer, food, produc...</td>\n",
       "      <td>54.6979</td>\n",
       "      <td>34.0199</td>\n",
       "      <td>20.9528</td>\n",
       "      <td>0.205717</td>\n",
       "      <td>149</td>\n",
       "      <td>69</td>\n",
       "      <td>14</td>\n",
       "    </tr>\n",
       "    <tr>\n",
       "      <th>2997</th>\n",
       "      <td>https://s3-media4.fl.yelpcdn.com/bphoto/PeiZV8...</td>\n",
       "      <td>[sign, signage, advertising, street sign, rest...</td>\n",
       "      <td>56.6479</td>\n",
       "      <td>30.8364</td>\n",
       "      <td>30.5406</td>\n",
       "      <td>0.0781999</td>\n",
       "      <td>148</td>\n",
       "      <td>64</td>\n",
       "      <td>65</td>\n",
       "    </tr>\n",
       "    <tr>\n",
       "      <th>2998</th>\n",
       "      <td>https://s3-media1.fl.yelpcdn.com/bphoto/4HQ1p1...</td>\n",
       "      <td>[text, font, brand, logo, number]</td>\n",
       "      <td>27.593</td>\n",
       "      <td>27.593</td>\n",
       "      <td>27.593</td>\n",
       "      <td>0.788372</td>\n",
       "      <td>35</td>\n",
       "      <td>35</td>\n",
       "      <td>35</td>\n",
       "    </tr>\n",
       "    <tr>\n",
       "      <th>2999</th>\n",
       "      <td>https://s3-media1.fl.yelpcdn.com/bphoto/7tFObd...</td>\n",
       "      <td>2999</td>\n",
       "      <td>68.6406</td>\n",
       "      <td>69.5822</td>\n",
       "      <td>70.204</td>\n",
       "      <td>0.284357</td>\n",
       "      <td>187</td>\n",
       "      <td>195</td>\n",
       "      <td>200</td>\n",
       "    </tr>\n",
       "  </tbody>\n",
       "</table>\n",
       "</div>"
      ],
      "text/plain": [
       "                                              image_url  \\\n",
       "2995  https://s3-media4.fl.yelpcdn.com/bphoto/JIGZTo...   \n",
       "2996  https://s3-media3.fl.yelpcdn.com/bphoto/n6TRCA...   \n",
       "2997  https://s3-media4.fl.yelpcdn.com/bphoto/PeiZV8...   \n",
       "2998  https://s3-media1.fl.yelpcdn.com/bphoto/4HQ1p1...   \n",
       "2999  https://s3-media1.fl.yelpcdn.com/bphoto/7tFObd...   \n",
       "\n",
       "                                                 Labels      Red    Green  \\\n",
       "2995  [dish, food, cuisine, meal, breakfast, produce...  66.6043  56.6967   \n",
       "2996  [drink, alcoholic beverage, beer, food, produc...  54.6979  34.0199   \n",
       "2997  [sign, signage, advertising, street sign, rest...  56.6479  30.8364   \n",
       "2998                  [text, font, brand, logo, number]   27.593   27.593   \n",
       "2999                                               2999  68.6406  69.5822   \n",
       "\n",
       "         Blue TOP Pixel_prop TOP Red TOP Green TOP Blue  \n",
       "2995  48.8742       0.132371     216       190      165  \n",
       "2996  20.9528       0.205717     149        69       14  \n",
       "2997  30.5406      0.0781999     148        64       65  \n",
       "2998   27.593       0.788372      35        35       35  \n",
       "2999   70.204       0.284357     187       195      200  "
      ]
     },
     "execution_count": 197,
     "metadata": {},
     "output_type": "execute_result"
    }
   ],
   "source": [
    "image_properties.tail()"
   ]
  },
  {
   "cell_type": "code",
   "execution_count": 199,
   "metadata": {
    "collapsed": true
   },
   "outputs": [],
   "source": [
    "image_properties.to_csv('./image_properties.csv', index=False)"
   ]
  }
 ],
 "metadata": {
  "kernelspec": {
   "display_name": "Python 2",
   "language": "python",
   "name": "python2"
  },
  "language_info": {
   "codemirror_mode": {
    "name": "ipython",
    "version": 2
   },
   "file_extension": ".py",
   "mimetype": "text/x-python",
   "name": "python",
   "nbconvert_exporter": "python",
   "pygments_lexer": "ipython2",
   "version": "2.7.12"
  }
 },
 "nbformat": 4,
 "nbformat_minor": 2
}
