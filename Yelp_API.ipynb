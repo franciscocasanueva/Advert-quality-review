{
 "cells": [
  {
   "cell_type": "markdown",
   "metadata": {},
   "source": [
    "# Yelp API"
   ]
  },
  {
   "cell_type": "markdown",
   "metadata": {},
   "source": [
    "This file develops the interaction with the Yelp API in other to get the final dataset. This process includes:\n",
    "\n",
    "1. Oauth2 token autentification\n",
    "2. HTTP request\n",
    "3. Collection of the JSON response into a DataFrame\n",
    "4. Cleaning of the response and structuration of the variables for modeling."
   ]
  },
  {
   "cell_type": "code",
   "execution_count": 2,
   "metadata": {
    "collapsed": true
   },
   "outputs": [],
   "source": [
    "import json\n",
    "import urllib\n",
    "import pandas as pd\n",
    "import numpy as np\n",
    "import requests\n",
    "import json\n",
    "import re\n",
    "import matplotlib.pyplot as plt\n",
    "import oauth2\n",
    "import time\n",
    "%matplotlib inline"
   ]
  },
  {
   "cell_type": "markdown",
   "metadata": {},
   "source": [
    "## API Connection"
   ]
  },
  {
   "cell_type": "markdown",
   "metadata": {},
   "source": [
    "This code creates a connection with the Yelp Fusion API based on your client ID and client secret. It after uses the Search API to query for businesses by a search term and location, and the Business API to query additional information about the top result from the search query."
   ]
  },
  {
   "cell_type": "code",
   "execution_count": 3,
   "metadata": {
    "collapsed": true
   },
   "outputs": [],
   "source": [
    "import argparse\n",
    "import json\n",
    "import pprint\n",
    "import requests\n",
    "import sys\n",
    "import urllib\n",
    "\n",
    "from urllib2 import HTTPError\n",
    "from urllib import quote\n",
    "from urllib import urlencode\n",
    "\n",
    "\n",
    "# OAuth credential placeholders that must be filled in by users.\n",
    "# Finded on:\n",
    "# https://www.yelp.com/developers/v3/manage_app\n",
    "CLIENT_ID = \"FQ0cqa62QmG2_jRfp7OJvw\"\n",
    "CLIENT_SECRET = \"xfk0wI6RzvaCvpOSgcVtI7sgpSpiMZO8EQMHGgFKJww3UqZ0zXyxioMjWz6BPcy6\"\n",
    "\n",
    "\n",
    "# API constants, you shouldn't have to change these.\n",
    "API_HOST = 'https://api.yelp.com'\n",
    "SEARCH_PATH = '/v3/businesses/search'\n",
    "BUSINESS_PATH = '/v3/businesses/'\n",
    "TOKEN_PATH = '/oauth2/token'\n",
    "GRANT_TYPE = 'client_credentials'\n",
    "\n",
    "\n",
    "# Defaults search values:\n",
    "DEFAULT_TERM = 'dinner'\n",
    "DEFAULT_LOCATION = 'San Francisco, CA'\n",
    "SEARCH_LIMIT = 50 #Tells the number of results per page. Cannot be set to a number greater then 50.\n",
    "#For larger queries use:\n",
    "REAL_SEARCH = 500 #This value makes iterations bringing results through the offset values to give higher order\n",
    "#value of results. It can be set up to 950 results."
   ]
  },
  {
   "cell_type": "markdown",
   "metadata": {},
   "source": [
    "## Oauth2 token autentification, Bearer token obtaning:"
   ]
  },
  {
   "cell_type": "code",
   "execution_count": 34,
   "metadata": {},
   "outputs": [],
   "source": [
    "def obtain_bearer_token(host, path):\n",
    "    \"\"\"Given a bearer token, send a GET request to the API.\n",
    "    Args:\n",
    "        host (str): The domain host of the API.\n",
    "        path (str): The path of the API after the domain.\n",
    "        url_params (dict): An optional set of query parameters in the request.\n",
    "    Returns:\n",
    "        str: OAuth bearer token, obtained using client_id and client_secret.\n",
    "    \"\"\"\n",
    "    url = '{0}{1}'.format(host, quote(path.encode('utf8')))\n",
    "    assert CLIENT_ID, \"\"\"supplied by user\"\"\"\n",
    "    assert CLIENT_SECRET, \"\"\"supplied by user\"\"\"\n",
    "    data = urlencode({\n",
    "        'client_id': CLIENT_ID,\n",
    "        'client_secret': CLIENT_SECRET,\n",
    "        'grant_type': GRANT_TYPE,\n",
    "    })\n",
    "    headers = {\n",
    "        'content-type': 'application/x-www-form-urlencoded',\n",
    "    }\n",
    "    response = requests.request('POST', url, data=data, headers=headers) #post your credentials\n",
    "    bearer_token = response.json()['access_token'] #Get the acces token result back\n",
    "    return bearer_token"
   ]
  },
  {
   "cell_type": "markdown",
   "metadata": {},
   "source": [
    "Make conection, obtaining the Oauth bearer token:"
   ]
  },
  {
   "cell_type": "code",
   "execution_count": 6,
   "metadata": {},
   "outputs": [],
   "source": [
    "bearer_token1 = obtain_bearer_token(API_HOST, TOKEN_PATH)"
   ]
  },
  {
   "cell_type": "markdown",
   "metadata": {},
   "source": [
    "## HTTP request"
   ]
  },
  {
   "cell_type": "markdown",
   "metadata": {},
   "source": [
    "Function for given a bearer token, send a GET request to the API."
   ]
  },
  {
   "cell_type": "code",
   "execution_count": 30,
   "metadata": {},
   "outputs": [],
   "source": [
    "def request(host, path, bearer_token, url_params=None):\n",
    "    \"\"\"Args:\n",
    "        host (str): The domain host of the API.\n",
    "        path (str): The path of the API after the domain.\n",
    "        bearer_token (str): OAuth bearer token, obtained using client_id and client_secret.\n",
    "        url_params (dict): An optional set of query parameters in the request.\n",
    "    Returns:\n",
    "        dict: The JSON response from the request.\n",
    "    \"\"\"\n",
    "    url_params = url_params or {}\n",
    "    url = '{0}{1}'.format(host, quote(path.encode('utf8')))\n",
    "    headers = {\n",
    "        'Authorization': 'Bearer %s' % bearer_token,\n",
    "    }\n",
    "\n",
    "    print(u'Querying {0}, Query Offset: {1}'.format(url_params['location'],url_params['offset'],url))\n",
    "\n",
    "    response = requests.request('GET', url, headers=headers, params=url_params)\n",
    "\n",
    "    return response.json()"
   ]
  },
  {
   "cell_type": "markdown",
   "metadata": {},
   "source": [
    "Function for querying the Search API by a search term and location."
   ]
  },
  {
   "cell_type": "code",
   "execution_count": 35,
   "metadata": {
    "collapsed": true
   },
   "outputs": [],
   "source": [
    "def search(bearer_token, term, location, nresults = REAL_SEARCH):\n",
    "    \"\"\"Args:\n",
    "        term (str): The search term passed to the API.\n",
    "        location (str): The search location passed to the API.\n",
    "    Returns:\n",
    "        dict: The JSON response from the request.\n",
    "    \"\"\"\n",
    "    join_df = pd.DataFrame()\n",
    "    \n",
    "    #Loop through the number of offsets needed to obtain the total number of results requested    \n",
    "    for i in range(nresults/SEARCH_LIMIT):\n",
    "        origin_results = (i+1)*SEARCH_LIMIT\n",
    "        url_params = {\n",
    "            'term': term.replace(' ', '+'),\n",
    "            'location': location.replace(' ', '+'),\n",
    "            'offset': origin_results,\n",
    "            'limit': SEARCH_LIMIT\n",
    "        }\n",
    "        request_dict = request(API_HOST, SEARCH_PATH, bearer_token, url_params=url_params)\n",
    "        #Set the differnt request results in dataframes that are latter put together \n",
    "        request_df = pd.DataFrame().from_dict(request_dict['businesses'])\n",
    "        join_df = pd.concat([join_df,request_df], axis=0)\n",
    "    join_df.reset_index(inplace=True, drop=True)\n",
    "    return join_df"
   ]
  },
  {
   "cell_type": "code",
   "execution_count": 36,
   "metadata": {},
   "outputs": [
    {
     "name": "stdout",
     "output_type": "stream",
     "text": [
      "Querying London, Query Offset: 50...https://api.yelp.com/v3/businesses/search\n",
      "Querying London, Query Offset: 100...https://api.yelp.com/v3/businesses/search\n",
      "Querying London, Query Offset: 150...https://api.yelp.com/v3/businesses/search\n",
      "Querying London, Query Offset: 200...https://api.yelp.com/v3/businesses/search\n",
      "Querying London, Query Offset: 250...https://api.yelp.com/v3/businesses/search\n",
      "Querying London, Query Offset: 300...https://api.yelp.com/v3/businesses/search\n",
      "Querying London, Query Offset: 350...https://api.yelp.com/v3/businesses/search\n",
      "Querying London, Query Offset: 400...https://api.yelp.com/v3/businesses/search\n",
      "Querying London, Query Offset: 450...https://api.yelp.com/v3/businesses/search\n",
      "Querying London, Query Offset: 500...https://api.yelp.com/v3/businesses/search\n",
      "Querying Paris, Query Offset: 50...https://api.yelp.com/v3/businesses/search\n",
      "Querying Paris, Query Offset: 100...https://api.yelp.com/v3/businesses/search\n",
      "Querying Paris, Query Offset: 150...https://api.yelp.com/v3/businesses/search\n",
      "Querying Paris, Query Offset: 200...https://api.yelp.com/v3/businesses/search\n",
      "Querying Paris, Query Offset: 250...https://api.yelp.com/v3/businesses/search\n",
      "Querying Paris, Query Offset: 300...https://api.yelp.com/v3/businesses/search\n",
      "Querying Paris, Query Offset: 350...https://api.yelp.com/v3/businesses/search\n",
      "Querying Paris, Query Offset: 400...https://api.yelp.com/v3/businesses/search\n",
      "Querying Paris, Query Offset: 450...https://api.yelp.com/v3/businesses/search\n",
      "Querying Paris, Query Offset: 500...https://api.yelp.com/v3/businesses/search\n",
      "Querying Madrid, Query Offset: 50...https://api.yelp.com/v3/businesses/search\n",
      "Querying Madrid, Query Offset: 100...https://api.yelp.com/v3/businesses/search\n",
      "Querying Madrid, Query Offset: 150...https://api.yelp.com/v3/businesses/search\n",
      "Querying Madrid, Query Offset: 200...https://api.yelp.com/v3/businesses/search\n",
      "Querying Madrid, Query Offset: 250...https://api.yelp.com/v3/businesses/search\n",
      "Querying Madrid, Query Offset: 300...https://api.yelp.com/v3/businesses/search\n",
      "Querying Madrid, Query Offset: 350...https://api.yelp.com/v3/businesses/search\n",
      "Querying Madrid, Query Offset: 400...https://api.yelp.com/v3/businesses/search\n",
      "Querying Madrid, Query Offset: 450...https://api.yelp.com/v3/businesses/search\n",
      "Querying Madrid, Query Offset: 500...https://api.yelp.com/v3/businesses/search\n",
      "Querying Rome, Query Offset: 50...https://api.yelp.com/v3/businesses/search\n",
      "Querying Rome, Query Offset: 100...https://api.yelp.com/v3/businesses/search\n",
      "Querying Rome, Query Offset: 150...https://api.yelp.com/v3/businesses/search\n",
      "Querying Rome, Query Offset: 200...https://api.yelp.com/v3/businesses/search\n",
      "Querying Rome, Query Offset: 250...https://api.yelp.com/v3/businesses/search\n",
      "Querying Rome, Query Offset: 300...https://api.yelp.com/v3/businesses/search\n",
      "Querying Rome, Query Offset: 350...https://api.yelp.com/v3/businesses/search\n",
      "Querying Rome, Query Offset: 400...https://api.yelp.com/v3/businesses/search\n",
      "Querying Rome, Query Offset: 450...https://api.yelp.com/v3/businesses/search\n",
      "Querying Rome, Query Offset: 500...https://api.yelp.com/v3/businesses/search\n",
      "Querying Dublin, Query Offset: 50...https://api.yelp.com/v3/businesses/search\n",
      "Querying Dublin, Query Offset: 100...https://api.yelp.com/v3/businesses/search\n",
      "Querying Dublin, Query Offset: 150...https://api.yelp.com/v3/businesses/search\n",
      "Querying Dublin, Query Offset: 200...https://api.yelp.com/v3/businesses/search\n",
      "Querying Dublin, Query Offset: 250...https://api.yelp.com/v3/businesses/search\n",
      "Querying Dublin, Query Offset: 300...https://api.yelp.com/v3/businesses/search\n",
      "Querying Dublin, Query Offset: 350...https://api.yelp.com/v3/businesses/search\n",
      "Querying Dublin, Query Offset: 400...https://api.yelp.com/v3/businesses/search\n",
      "Querying Dublin, Query Offset: 450...https://api.yelp.com/v3/businesses/search\n",
      "Querying Dublin, Query Offset: 500...https://api.yelp.com/v3/businesses/search\n",
      "Querying Manchester, Query Offset: 50...https://api.yelp.com/v3/businesses/search\n",
      "Querying Manchester, Query Offset: 100...https://api.yelp.com/v3/businesses/search\n",
      "Querying Manchester, Query Offset: 150...https://api.yelp.com/v3/businesses/search\n",
      "Querying Manchester, Query Offset: 200...https://api.yelp.com/v3/businesses/search\n",
      "Querying Manchester, Query Offset: 250...https://api.yelp.com/v3/businesses/search\n",
      "Querying Manchester, Query Offset: 300...https://api.yelp.com/v3/businesses/search\n",
      "Querying Manchester, Query Offset: 350...https://api.yelp.com/v3/businesses/search\n",
      "Querying Manchester, Query Offset: 400...https://api.yelp.com/v3/businesses/search\n",
      "Querying Manchester, Query Offset: 450...https://api.yelp.com/v3/businesses/search\n",
      "Querying Manchester, Query Offset: 500...https://api.yelp.com/v3/businesses/search\n"
     ]
    }
   ],
   "source": [
    "#Obtain the restaurant results\n",
    "time1 = time.time()\n",
    "london = search(bearer_token1, term='',location=\"London\", nresults=500)\n",
    "paris = search(bearer_token1, term='',location=\"Paris\", nresults=500)\n",
    "madrid = search(bearer_token1, term='',location=\"Madrid\", nresults=500)\n",
    "rome = search(bearer_token1, term='',location=\"Rome\", nresults=500)\n",
    "dublin = search(bearer_token1, term='',location=\"Dublin\", nresults=500)\n",
    "manchester = search(bearer_token1, term='',location=\"Manchester\", nresults=500)\n",
    "time2 = time.time()\n",
    "time_in_s = (time2-time1)\n",
    "\n",
    "print \"The search took %0.3f seconds to run\" %time_in_s"
   ]
  },
  {
   "cell_type": "code",
   "execution_count": 37,
   "metadata": {
    "collapsed": true
   },
   "outputs": [],
   "source": [
    "#Merge all results together in one Dataframe\n",
    "result = pd.concat([london,paris,madrid,rome,dublin,manchester], axis = 0)"
   ]
  },
  {
   "cell_type": "code",
   "execution_count": 41,
   "metadata": {},
   "outputs": [
    {
     "data": {
      "text/html": [
       "<div>\n",
       "<table border=\"1\" class=\"dataframe\">\n",
       "  <thead>\n",
       "    <tr style=\"text-align: right;\">\n",
       "      <th></th>\n",
       "      <th>categories</th>\n",
       "      <th>coordinates</th>\n",
       "      <th>display_phone</th>\n",
       "      <th>distance</th>\n",
       "      <th>id</th>\n",
       "      <th>image_url</th>\n",
       "      <th>is_closed</th>\n",
       "      <th>location</th>\n",
       "      <th>name</th>\n",
       "      <th>phone</th>\n",
       "      <th>price</th>\n",
       "      <th>rating</th>\n",
       "      <th>review_count</th>\n",
       "      <th>transactions</th>\n",
       "      <th>url</th>\n",
       "    </tr>\n",
       "  </thead>\n",
       "  <tbody>\n",
       "    <tr>\n",
       "      <th>0</th>\n",
       "      <td>[{u'alias': u'cocktailbars', u'title': u'Cockt...</td>\n",
       "      <td>{u'latitude': 51.509767, u'longitude': -0.119833}</td>\n",
       "      <td>+44 20 7836 4343</td>\n",
       "      <td>1166.830885</td>\n",
       "      <td>american-bar-london-2</td>\n",
       "      <td>https://s3-media1.fl.yelpcdn.com/bphoto/SKAdDh...</td>\n",
       "      <td>False</td>\n",
       "      <td>{u'city': u'London', u'display_address': [u'Th...</td>\n",
       "      <td>American Bar</td>\n",
       "      <td>+442078364343</td>\n",
       "      <td>£££</td>\n",
       "      <td>4.5</td>\n",
       "      <td>44</td>\n",
       "      <td>[]</td>\n",
       "      <td>https://www.yelp.com/biz/american-bar-london-2...</td>\n",
       "    </tr>\n",
       "    <tr>\n",
       "      <th>1</th>\n",
       "      <td>[{u'alias': u'seafood', u'title': u'Seafood'},...</td>\n",
       "      <td>{u'latitude': 51.5135487, u'longitude': -0.132...</td>\n",
       "      <td>+44 20 7432 4800</td>\n",
       "      <td>261.663283</td>\n",
       "      <td>burger-and-lobster-london-2</td>\n",
       "      <td>https://s3-media2.fl.yelpcdn.com/bphoto/DLmidv...</td>\n",
       "      <td>False</td>\n",
       "      <td>{u'city': u'London', u'display_address': [u'36...</td>\n",
       "      <td>Burger &amp; Lobster</td>\n",
       "      <td>+442074324800</td>\n",
       "      <td>££</td>\n",
       "      <td>4.0</td>\n",
       "      <td>228</td>\n",
       "      <td>[]</td>\n",
       "      <td>https://www.yelp.com/biz/burger-and-lobster-lo...</td>\n",
       "    </tr>\n",
       "  </tbody>\n",
       "</table>\n",
       "</div>"
      ],
      "text/plain": [
       "                                          categories  \\\n",
       "0  [{u'alias': u'cocktailbars', u'title': u'Cockt...   \n",
       "1  [{u'alias': u'seafood', u'title': u'Seafood'},...   \n",
       "\n",
       "                                         coordinates     display_phone  \\\n",
       "0  {u'latitude': 51.509767, u'longitude': -0.119833}  +44 20 7836 4343   \n",
       "1  {u'latitude': 51.5135487, u'longitude': -0.132...  +44 20 7432 4800   \n",
       "\n",
       "      distance                           id  \\\n",
       "0  1166.830885        american-bar-london-2   \n",
       "1   261.663283  burger-and-lobster-london-2   \n",
       "\n",
       "                                           image_url is_closed  \\\n",
       "0  https://s3-media1.fl.yelpcdn.com/bphoto/SKAdDh...     False   \n",
       "1  https://s3-media2.fl.yelpcdn.com/bphoto/DLmidv...     False   \n",
       "\n",
       "                                            location              name  \\\n",
       "0  {u'city': u'London', u'display_address': [u'Th...      American Bar   \n",
       "1  {u'city': u'London', u'display_address': [u'36...  Burger & Lobster   \n",
       "\n",
       "           phone price  rating  review_count transactions  \\\n",
       "0  +442078364343   £££     4.5            44           []   \n",
       "1  +442074324800    ££     4.0           228           []   \n",
       "\n",
       "                                                 url  \n",
       "0  https://www.yelp.com/biz/american-bar-london-2...  \n",
       "1  https://www.yelp.com/biz/burger-and-lobster-lo...  "
      ]
     },
     "execution_count": 41,
     "metadata": {},
     "output_type": "execute_result"
    }
   ],
   "source": [
    "result.head(2)"
   ]
  },
  {
   "cell_type": "markdown",
   "metadata": {},
   "source": [
    "## Cleaning and processing of the results"
   ]
  },
  {
   "cell_type": "markdown",
   "metadata": {},
   "source": [
    "As we can see the result frame obtained needs processing. Most of the columns need some preprocessing and others have no use. In this next step we are going to clean and process the results obtained"
   ]
  },
  {
   "cell_type": "code",
   "execution_count": 38,
   "metadata": {
    "collapsed": true
   },
   "outputs": [],
   "source": [
    "def datacleaner(dfm):\n",
    "\n",
    "    dfm.reset_index(inplace=True, drop=True)\n",
    "\n",
    "    dfm['alias'] = dfm['categories'].apply(lambda x: x[0]['alias'])\n",
    "    dfm['title'] = dfm['categories'].apply(lambda x: x[0]['title'])\n",
    "    dfm['latitude'] = dfm['coordinates'].apply(lambda x: x['latitude'])\n",
    "    dfm['longitude'] = dfm['coordinates'].apply(lambda x: x['longitude'])\n",
    "    dfm['Phone1'] = dfm['display_phone'].apply(lambda x:  0 if x=='' else 1)\n",
    "    dfm['Phone2'] = dfm['phone'].apply(lambda x:  0 if x=='' else 1)\n",
    "    dfm['price'].str.encode('utf-8')\n",
    "    dfm['price'] = dfm['price'].apply(lambda x: np.nan if type(x) == float else len(x))\n",
    "    \n",
    "    city_keys = dfm['location'][0].keys()\n",
    "    for key in city_keys:\n",
    "        dfm[key] = dfm['location'].apply(lambda x: x[key])\n",
    "        \n",
    "    dfm.drop(['distance','categories','coordinates',\"display_phone\", 'is_closed', 'phone', 'url','location','id'], axis=1, inplace=True)\n",
    "\n",
    "\n",
    "    dfm.reset_index(inplace=True, drop=True)\n",
    "    \n",
    "    #Giving the dataset a order\n",
    "    dfm = dfm[['name','price','review_count','alias','Phone1','city', 'country','state', 'address1', 'zip_code','latitude', 'longitude', 'image_url', 'rating']]\n",
    "\n",
    "#     for topic in topics:\n",
    "#         for index, list in enumerate(dfm['topics']):\n",
    "#             if topic in list:\n",
    "#                 dfm.ix[index, topic] = 1\n",
    "#             else:\n",
    "#                 dfm.ix[index, topic] = 0\n",
    "\n",
    "    return dfm"
   ]
  },
  {
   "cell_type": "code",
   "execution_count": 17,
   "metadata": {},
   "outputs": [
    {
     "name": "stdout",
     "output_type": "stream",
     "text": [
      "Function takes around 0.056 seconds to run\n"
     ]
    }
   ],
   "source": [
    "finaldf = datacleaner(result)"
   ]
  },
  {
   "cell_type": "code",
   "execution_count": 18,
   "metadata": {},
   "outputs": [
    {
     "data": {
      "text/plain": [
       "(3000, 14)"
      ]
     },
     "execution_count": 18,
     "metadata": {},
     "output_type": "execute_result"
    }
   ],
   "source": [
    "finaldf.shape"
   ]
  },
  {
   "cell_type": "code",
   "execution_count": 19,
   "metadata": {
    "collapsed": true
   },
   "outputs": [],
   "source": [
    "photos = pd.DataFrame(finaldf.image_url)"
   ]
  },
  {
   "cell_type": "code",
   "execution_count": 20,
   "metadata": {
    "collapsed": true
   },
   "outputs": [],
   "source": [
    "pd.DataFrame.to_csv(photos, path_or_buf= 'Ad_image.csv', index=False, )"
   ]
  },
  {
   "cell_type": "code",
   "execution_count": 21,
   "metadata": {},
   "outputs": [
    {
     "data": {
      "text/html": [
       "<div>\n",
       "<table border=\"1\" class=\"dataframe\">\n",
       "  <thead>\n",
       "    <tr style=\"text-align: right;\">\n",
       "      <th></th>\n",
       "      <th>name</th>\n",
       "      <th>price</th>\n",
       "      <th>review_count</th>\n",
       "      <th>alias</th>\n",
       "      <th>Phone1</th>\n",
       "      <th>city</th>\n",
       "      <th>country</th>\n",
       "      <th>state</th>\n",
       "      <th>address1</th>\n",
       "      <th>zip_code</th>\n",
       "      <th>latitude</th>\n",
       "      <th>longitude</th>\n",
       "      <th>image_url</th>\n",
       "      <th>rating</th>\n",
       "    </tr>\n",
       "  </thead>\n",
       "  <tbody>\n",
       "    <tr>\n",
       "      <th>0</th>\n",
       "      <td>American Bar</td>\n",
       "      <td>3.0</td>\n",
       "      <td>44</td>\n",
       "      <td>cocktailbars</td>\n",
       "      <td>1</td>\n",
       "      <td>London</td>\n",
       "      <td>GB</td>\n",
       "      <td>XGL</td>\n",
       "      <td>The Savoy Hotel</td>\n",
       "      <td>WC2R 0EU</td>\n",
       "      <td>51.509767</td>\n",
       "      <td>-0.119833</td>\n",
       "      <td>https://s3-media1.fl.yelpcdn.com/bphoto/SKAdDh...</td>\n",
       "      <td>4.5</td>\n",
       "    </tr>\n",
       "    <tr>\n",
       "      <th>1</th>\n",
       "      <td>Burger &amp; Lobster</td>\n",
       "      <td>2.0</td>\n",
       "      <td>228</td>\n",
       "      <td>seafood</td>\n",
       "      <td>1</td>\n",
       "      <td>London</td>\n",
       "      <td>GB</td>\n",
       "      <td>XGL</td>\n",
       "      <td>36 Dean Street</td>\n",
       "      <td>W1D 4PS</td>\n",
       "      <td>51.513549</td>\n",
       "      <td>-0.132232</td>\n",
       "      <td>https://s3-media2.fl.yelpcdn.com/bphoto/DLmidv...</td>\n",
       "      <td>4.0</td>\n",
       "    </tr>\n",
       "    <tr>\n",
       "      <th>2</th>\n",
       "      <td>Quilon Restaurant</td>\n",
       "      <td>3.0</td>\n",
       "      <td>103</td>\n",
       "      <td>indpak</td>\n",
       "      <td>1</td>\n",
       "      <td>London</td>\n",
       "      <td>GB</td>\n",
       "      <td>XGL</td>\n",
       "      <td>41 Buckingham Gate</td>\n",
       "      <td>SW1E 6AF</td>\n",
       "      <td>51.498720</td>\n",
       "      <td>-0.137499</td>\n",
       "      <td>https://s3-media4.fl.yelpcdn.com/bphoto/weedog...</td>\n",
       "      <td>4.5</td>\n",
       "    </tr>\n",
       "    <tr>\n",
       "      <th>3</th>\n",
       "      <td>Nightjar</td>\n",
       "      <td>3.0</td>\n",
       "      <td>149</td>\n",
       "      <td>lounges</td>\n",
       "      <td>1</td>\n",
       "      <td>London</td>\n",
       "      <td>GB</td>\n",
       "      <td>XGL</td>\n",
       "      <td>129 City Road</td>\n",
       "      <td>EC1V 1JB</td>\n",
       "      <td>51.526522</td>\n",
       "      <td>-0.087750</td>\n",
       "      <td>https://s3-media1.fl.yelpcdn.com/bphoto/yzyTg5...</td>\n",
       "      <td>4.5</td>\n",
       "    </tr>\n",
       "    <tr>\n",
       "      <th>4</th>\n",
       "      <td>Savoir Faire</td>\n",
       "      <td>2.0</td>\n",
       "      <td>153</td>\n",
       "      <td>french</td>\n",
       "      <td>1</td>\n",
       "      <td>London</td>\n",
       "      <td>GB</td>\n",
       "      <td>XGL</td>\n",
       "      <td>42 New Oxford Street</td>\n",
       "      <td>WC1A 1EP</td>\n",
       "      <td>51.517195</td>\n",
       "      <td>-0.126012</td>\n",
       "      <td>https://s3-media2.fl.yelpcdn.com/bphoto/tbGiSu...</td>\n",
       "      <td>4.5</td>\n",
       "    </tr>\n",
       "  </tbody>\n",
       "</table>\n",
       "</div>"
      ],
      "text/plain": [
       "                name  price  review_count         alias  Phone1    city  \\\n",
       "0       American Bar    3.0            44  cocktailbars       1  London   \n",
       "1   Burger & Lobster    2.0           228       seafood       1  London   \n",
       "2  Quilon Restaurant    3.0           103        indpak       1  London   \n",
       "3           Nightjar    3.0           149       lounges       1  London   \n",
       "4       Savoir Faire    2.0           153        french       1  London   \n",
       "\n",
       "  country state              address1  zip_code   latitude  longitude  \\\n",
       "0      GB   XGL       The Savoy Hotel  WC2R 0EU  51.509767  -0.119833   \n",
       "1      GB   XGL        36 Dean Street   W1D 4PS  51.513549  -0.132232   \n",
       "2      GB   XGL    41 Buckingham Gate  SW1E 6AF  51.498720  -0.137499   \n",
       "3      GB   XGL         129 City Road  EC1V 1JB  51.526522  -0.087750   \n",
       "4      GB   XGL  42 New Oxford Street  WC1A 1EP  51.517195  -0.126012   \n",
       "\n",
       "                                           image_url  rating  \n",
       "0  https://s3-media1.fl.yelpcdn.com/bphoto/SKAdDh...     4.5  \n",
       "1  https://s3-media2.fl.yelpcdn.com/bphoto/DLmidv...     4.0  \n",
       "2  https://s3-media4.fl.yelpcdn.com/bphoto/weedog...     4.5  \n",
       "3  https://s3-media1.fl.yelpcdn.com/bphoto/yzyTg5...     4.5  \n",
       "4  https://s3-media2.fl.yelpcdn.com/bphoto/tbGiSu...     4.5  "
      ]
     },
     "execution_count": 21,
     "metadata": {},
     "output_type": "execute_result"
    }
   ],
   "source": [
    "finaldf.head()"
   ]
  },
  {
   "cell_type": "code",
   "execution_count": 22,
   "metadata": {
    "collapsed": true
   },
   "outputs": [],
   "source": [
    "finaldf.to_csv(\"./Yelp_results.csv\", encoding= 'UTF8', index= False)"
   ]
  }
 ],
 "metadata": {
  "kernelspec": {
   "display_name": "Python 2",
   "language": "python",
   "name": "python2"
  },
  "language_info": {
   "codemirror_mode": {
    "name": "ipython",
    "version": 2
   },
   "file_extension": ".py",
   "mimetype": "text/x-python",
   "name": "python",
   "nbconvert_exporter": "python",
   "pygments_lexer": "ipython2",
   "version": "2.7.12"
  }
 },
 "nbformat": 4,
 "nbformat_minor": 2
}
